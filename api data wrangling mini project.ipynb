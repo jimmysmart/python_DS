{
 "cells": [
  {
   "cell_type": "markdown",
   "metadata": {},
   "source": [
    "API Data Wrangling Mini Project¶\n",
    "\n",
    "These are your tasks for this project:\n",
    "\n",
    "Collect data from the Franfurt Stock Exchange, for the ticker AFX_X, for the whole year 2017 (keep in mind that the date format is YYYY-MM-DD). Convert the returned JSON object into a Python dictionary. Calculate what the highest and lowest opening prices were for the stock in this period. What was the largest change in any one day (based on High and Low price)? What was the largest change between any two days (based on Closing Price)? What was the average daily trading volume during this year? (Optional) What was the median trading volume during this year. (Note: you may need to implement your own function for calculating the median.)"
   ]
  },
  {
   "cell_type": "code",
   "execution_count": null,
   "metadata": {},
   "outputs": [],
   "source": [
    "# Store the API key as a string - according to PEP8, constants are always named in all upper case\n",
    "API_KEY = 'JsfBXhqQXzVs4S92_6JL'"
   ]
  },
  {
   "cell_type": "code",
   "execution_count": 30,
   "metadata": {},
   "outputs": [],
   "source": [
    "# First, import the relevant modules\n",
    "import requests\n",
    "import json"
   ]
  },
  {
   "cell_type": "code",
   "execution_count": 43,
   "metadata": {},
   "outputs": [],
   "source": [
    "# Now, call the Quandl API and pull out a small sample of the data (only one day) to get a glimpse\n",
    "# into the JSON structure that will be returned\n",
    "one_day_url = ('https://www.quandl.com/api/v3/datasets/FSE/AFX_X.json?start_date=2017-01-01&end_date=2017-01-02&api_key=JsfBXhqQXzVs4S92_6JL')\n",
    "r_one_day = requests.get(one_day_url)"
   ]
  },
  {
   "cell_type": "code",
   "execution_count": 42,
   "metadata": {},
   "outputs": [
    {
     "name": "stdout",
     "output_type": "stream",
     "text": [
      "{'dataset': {'id': 10095370, 'dataset_code': 'AFX_X', 'database_code': 'FSE', 'name': 'Carl Zeiss Meditec (AFX_X)', 'description': 'Stock Prices for Carl Zeiss Meditec (2019-11-15) from the Frankfurt Stock Exchange.<br><br>Trading System: Xetra<br><br>ISIN: DE0005313704', 'refreshed_at': '2019-11-29T22:20:18.743Z', 'newest_available_date': '2019-11-29', 'oldest_available_date': '2000-06-07', 'column_names': ['Date', 'Open', 'High', 'Low', 'Close', 'Change', 'Traded Volume', 'Turnover', 'Last Price of the Day', 'Daily Traded Units', 'Daily Turnover'], 'frequency': 'daily', 'type': 'Time Series', 'premium': False, 'limit': None, 'transform': None, 'column_index': None, 'start_date': '2017-01-01', 'end_date': '2017-01-02', 'data': [['2017-01-02', 34.99, 35.94, 34.99, 35.8, None, 44700.0, 1590561.0, None, None, None]], 'collapse': None, 'order': None, 'database_id': 6129}}\n"
     ]
    }
   ],
   "source": [
    "# Inspect the JSON structure of the object you created, and take note of how nested it is, \n",
    "# as well as the overall structure\n",
    "print(r_one_day.json())"
   ]
  },
  {
   "cell_type": "code",
   "execution_count": 39,
   "metadata": {},
   "outputs": [],
   "source": [
    "# Collect data for the whole year of 2017\n",
    "url = ('https://www.quandl.com/api/v3/datasets/FSE/AFX_X.json?start_date=2017-01-01&end_date=2017-12-31&api_key=JsfBXhqQXzVs4S92_6JL')\n",
    "r = requests.get(url)"
   ]
  },
  {
   "cell_type": "code",
   "execution_count": 56,
   "metadata": {},
   "outputs": [],
   "source": [
    "#2.Convert the returned JSON object into a Python dictionary.\n",
    "json_data = r.json()"
   ]
  },
  {
   "cell_type": "code",
   "execution_count": 77,
   "metadata": {},
   "outputs": [
    {
     "name": "stdout",
     "output_type": "stream",
     "text": [
      "The highest opening price is: 53.11 \n",
      "The lowest opening price is: 34.0\n"
     ]
    }
   ],
   "source": [
    "#3.Calculate what the highest and lowest opening prices were for the stock in this period\n",
    "data = json_data['dataset']['data']\n",
    "\n",
    "#Return opening prices that are not null\n",
    "opening_prices = [item[1] for item in data if item[1] != None]\n",
    "\n",
    "# Highest opening price\n",
    "opening_high = max(opening_prices)\n",
    "\n",
    "#Lowest opening price\n",
    "opening_low = min(opening_prices)\n",
    "\n",
    "print('The highest opening price is:', opening_high, '\\nThe lowest opening price is:', opening_low)"
   ]
  },
  {
   "cell_type": "code",
   "execution_count": 94,
   "metadata": {},
   "outputs": [
    {
     "name": "stdout",
     "output_type": "stream",
     "text": [
      "The largest change in any one day is: 2.81\n"
     ]
    }
   ],
   "source": [
    "#4.What was the largest change in any one day (based on High and Low price)?\n",
    "daily_change = [item[2]- item[3] for item in data if item[2:3] != None]\n",
    "\n",
    "#Create largest one day change\n",
    "largest_change = sorted(daily_change, reverse=True)[0]\n",
    "\n",
    "#Round to 2 digits\n",
    "largest_one_day_change = round(largest_change,2)\n",
    "\n",
    "print('The largest change in any one day is:', largest_one_day_change)"
   ]
  },
  {
   "cell_type": "code",
   "execution_count": 106,
   "metadata": {},
   "outputs": [
    {
     "name": "stdout",
     "output_type": "stream",
     "text": [
      "The largest change between any two days is: 2.56\n"
     ]
    }
   ],
   "source": [
    "#5.What was the largest change between any two days (based on Closing Price)?\n",
    "two_day_change = [item[4] for item in data if item[4] != None]\n",
    "\n",
    "#Create largest 2 day change\n",
    "change = [item - two_day_change[index-1] for index, item in enumerate(two_day_change)][1:]\n",
    "pos_change = [abs(num) for num in change]\n",
    "\n",
    "#Round to 2 digits\n",
    "largest_close_change = str(round(max(pos_change), 2))\n",
    "\n",
    "print('The largest change between any two days is:', largest_close_change)"
   ]
  },
  {
   "cell_type": "code",
   "execution_count": 110,
   "metadata": {},
   "outputs": [
    {
     "name": "stdout",
     "output_type": "stream",
     "text": [
      "The average traded volume per day: 89124.3\n"
     ]
    }
   ],
   "source": [
    "#6.What was the average daily trading volume during this year?\n",
    "daily_trading = [item[6] for item in data if item[6] != None]\n",
    "\n",
    "#Create Average variable through Daily_trading\n",
    "average = str(round(sum(daily_trading)/len(daily_trading), 1))\n",
    "print('The average traded volume per day:', average)"
   ]
  },
  {
   "cell_type": "code",
   "execution_count": 152,
   "metadata": {},
   "outputs": [
    {
     "name": "stdout",
     "output_type": "stream",
     "text": [
      "The median daily trading volumn for 2017 was: 76286.0\n"
     ]
    }
   ],
   "source": [
    "#7.(Optional) What was the median trading volume during this year. (Note: you may need to implement your own function for calculating the median.)\n",
    "daily_trading = [item[6] for item in data if item[6] != None]\n",
    "\n",
    "def median_trading(list):\n",
    "    median_len = len(list) // 2\n",
    "    median_sorted = sorted(list)[median_len]\n",
    "    return median_sorted\n",
    "\n",
    "#Create Median Trading Volumn variable\n",
    "median_trading_volumn = median_trading(daily_trading)\n",
    "print('The median daily trading volumn for 2017 was: ' + str(median_trading_volumn))"
   ]
  }
 ],
 "metadata": {
  "kernelspec": {
   "display_name": "Python 3",
   "language": "python",
   "name": "python3"
  },
  "language_info": {
   "codemirror_mode": {
    "name": "ipython",
    "version": 3
   },
   "file_extension": ".py",
   "mimetype": "text/x-python",
   "name": "python",
   "nbconvert_exporter": "python",
   "pygments_lexer": "ipython3",
   "version": "3.7.3"
  }
 },
 "nbformat": 4,
 "nbformat_minor": 2
}
