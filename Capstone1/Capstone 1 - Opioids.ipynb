{
 "cells": [
  {
   "cell_type": "markdown",
   "metadata": {},
   "source": [
    "# U.S. Opiate Prescriptions"
   ]
  },
  {
   "cell_type": "markdown",
   "metadata": {},
   "source": [
    "Accidental death by fatal drug overdose is a rising trend in the United States. What can we do to help?\n",
    "\n",
    "Below is a dataframe that I will be using to dive into the opioid crisis as I wrangle through and provide visuals that bertain to the csv dataframes I have available.\n",
    "\n",
    "The 1st one, opioid.csv, lists the known opioid drug names and their generic names.\n",
    "The Overdoses.csv contains data provided from the 50 states in regards to their population and opioid related deaths.\n",
    "Finally, the Prescriber-info.csv provides data reguarding a specified prescriber. their gender, state, and speciality are provided, as well as the drugs they prescribed to their patients. Opioids and non opioid drugs.\n",
    "\n",
    "This dataset contains summaries of prescription records for 250 common opioid and non-opioid drugs written by 25,000 unique licensed medical professionals in 2014 in the United States for citizens covered under Class D Medicare as well as some metadata about the doctors themselves. This is only a small subset of data that was sourced from a much larger file: cms.gov. \n",
    "\n",
    "The full dataset contains almost 24 million prescription instances in long format. This data has already been previously cleaned and compiled here in a format with 1 row per prescriber and limited the approximately 1 million total unique prescribers down to 25,000 to keep it manageable. \n"
   ]
  },
  {
   "cell_type": "markdown",
   "metadata": {},
   "source": [
    "### A key for reading the dataset\n",
    "\n",
    "NPI – unique National Provider Identifier number\n",
    "\n",
    "Gender - (M/F)\n",
    "\n",
    "State - US State by abbreviation\n",
    "\n",
    "Credentials - set of initials indicative of medical degree\n",
    "\n",
    "Specialty - description of type of medicinal practice"
   ]
  },
  {
   "cell_type": "markdown",
   "metadata": {},
   "source": [
    "# Importing in necesary libraries for Data Wrangling then reading in data"
   ]
  },
  {
   "cell_type": "code",
   "execution_count": 1,
   "metadata": {},
   "outputs": [],
   "source": [
    "import pandas as pd\n",
    "import numpy as np\n",
    "import re\n",
    "\n",
    "#For Data Visualization\n",
    "import matplotlib.pyplot as plt\n",
    "import seaborn as sns"
   ]
  },
  {
   "cell_type": "code",
   "execution_count": 2,
   "metadata": {},
   "outputs": [],
   "source": [
    "opioids = pd.read_csv('opioids.csv')\n",
    "overdoses = pd.read_csv('overdoses.csv', thousands = ',')\n",
    "prescriber = pd.read_csv('prescriber-info.csv')"
   ]
  },
  {
   "cell_type": "markdown",
   "metadata": {},
   "source": [
    "# Exploratory Analysis"
   ]
  },
  {
   "cell_type": "code",
   "execution_count": 3,
   "metadata": {},
   "outputs": [
    {
     "data": {
      "text/html": [
       "<div>\n",
       "<style scoped>\n",
       "    .dataframe tbody tr th:only-of-type {\n",
       "        vertical-align: middle;\n",
       "    }\n",
       "\n",
       "    .dataframe tbody tr th {\n",
       "        vertical-align: top;\n",
       "    }\n",
       "\n",
       "    .dataframe thead th {\n",
       "        text-align: right;\n",
       "    }\n",
       "</style>\n",
       "<table border=\"1\" class=\"dataframe\">\n",
       "  <thead>\n",
       "    <tr style=\"text-align: right;\">\n",
       "      <th></th>\n",
       "      <th>Drug Name</th>\n",
       "      <th>Generic Name</th>\n",
       "    </tr>\n",
       "  </thead>\n",
       "  <tbody>\n",
       "    <tr>\n",
       "      <td>0</td>\n",
       "      <td>ABSTRAL</td>\n",
       "      <td>FENTANYL CITRATE</td>\n",
       "    </tr>\n",
       "    <tr>\n",
       "      <td>1</td>\n",
       "      <td>ACETAMINOPHEN-CODEINE</td>\n",
       "      <td>ACETAMINOPHEN WITH CODEINE</td>\n",
       "    </tr>\n",
       "    <tr>\n",
       "      <td>2</td>\n",
       "      <td>ACTIQ</td>\n",
       "      <td>FENTANYL CITRATE</td>\n",
       "    </tr>\n",
       "    <tr>\n",
       "      <td>3</td>\n",
       "      <td>ASCOMP WITH CODEINE</td>\n",
       "      <td>CODEINE/BUTALBITAL/ASA/CAFFEIN</td>\n",
       "    </tr>\n",
       "    <tr>\n",
       "      <td>4</td>\n",
       "      <td>ASPIRIN-CAFFEINE-DIHYDROCODEIN</td>\n",
       "      <td>DIHYDROCODEINE/ASPIRIN/CAFFEIN</td>\n",
       "    </tr>\n",
       "  </tbody>\n",
       "</table>\n",
       "</div>"
      ],
      "text/plain": [
       "                        Drug Name                    Generic Name\n",
       "0                         ABSTRAL                FENTANYL CITRATE\n",
       "1           ACETAMINOPHEN-CODEINE      ACETAMINOPHEN WITH CODEINE\n",
       "2                           ACTIQ                FENTANYL CITRATE\n",
       "3             ASCOMP WITH CODEINE  CODEINE/BUTALBITAL/ASA/CAFFEIN\n",
       "4  ASPIRIN-CAFFEINE-DIHYDROCODEIN  DIHYDROCODEINE/ASPIRIN/CAFFEIN"
      ]
     },
     "execution_count": 3,
     "metadata": {},
     "output_type": "execute_result"
    }
   ],
   "source": [
    "#See what the we're working with for these dataframes\n",
    "opioids.head()"
   ]
  },
  {
   "cell_type": "code",
   "execution_count": 4,
   "metadata": {},
   "outputs": [
    {
     "data": {
      "text/html": [
       "<div>\n",
       "<style scoped>\n",
       "    .dataframe tbody tr th:only-of-type {\n",
       "        vertical-align: middle;\n",
       "    }\n",
       "\n",
       "    .dataframe tbody tr th {\n",
       "        vertical-align: top;\n",
       "    }\n",
       "\n",
       "    .dataframe thead th {\n",
       "        text-align: right;\n",
       "    }\n",
       "</style>\n",
       "<table border=\"1\" class=\"dataframe\">\n",
       "  <thead>\n",
       "    <tr style=\"text-align: right;\">\n",
       "      <th></th>\n",
       "      <th>State</th>\n",
       "      <th>Population</th>\n",
       "      <th>Deaths</th>\n",
       "      <th>Abbrev</th>\n",
       "    </tr>\n",
       "  </thead>\n",
       "  <tbody>\n",
       "    <tr>\n",
       "      <td>0</td>\n",
       "      <td>Alabama</td>\n",
       "      <td>4833722</td>\n",
       "      <td>723</td>\n",
       "      <td>AL</td>\n",
       "    </tr>\n",
       "    <tr>\n",
       "      <td>1</td>\n",
       "      <td>Alaska</td>\n",
       "      <td>735132</td>\n",
       "      <td>124</td>\n",
       "      <td>AK</td>\n",
       "    </tr>\n",
       "    <tr>\n",
       "      <td>2</td>\n",
       "      <td>Arizona</td>\n",
       "      <td>6626624</td>\n",
       "      <td>1211</td>\n",
       "      <td>AZ</td>\n",
       "    </tr>\n",
       "    <tr>\n",
       "      <td>3</td>\n",
       "      <td>Arkansas</td>\n",
       "      <td>2959373</td>\n",
       "      <td>356</td>\n",
       "      <td>AR</td>\n",
       "    </tr>\n",
       "    <tr>\n",
       "      <td>4</td>\n",
       "      <td>California</td>\n",
       "      <td>38332521</td>\n",
       "      <td>4521</td>\n",
       "      <td>CA</td>\n",
       "    </tr>\n",
       "  </tbody>\n",
       "</table>\n",
       "</div>"
      ],
      "text/plain": [
       "        State  Population  Deaths Abbrev\n",
       "0     Alabama     4833722     723     AL\n",
       "1      Alaska      735132     124     AK\n",
       "2     Arizona     6626624    1211     AZ\n",
       "3    Arkansas     2959373     356     AR\n",
       "4  California    38332521    4521     CA"
      ]
     },
     "execution_count": 4,
     "metadata": {},
     "output_type": "execute_result"
    }
   ],
   "source": [
    "overdoses.head()"
   ]
  },
  {
   "cell_type": "code",
   "execution_count": 5,
   "metadata": {},
   "outputs": [
    {
     "data": {
      "text/html": [
       "<div>\n",
       "<style scoped>\n",
       "    .dataframe tbody tr th:only-of-type {\n",
       "        vertical-align: middle;\n",
       "    }\n",
       "\n",
       "    .dataframe tbody tr th {\n",
       "        vertical-align: top;\n",
       "    }\n",
       "\n",
       "    .dataframe thead th {\n",
       "        text-align: right;\n",
       "    }\n",
       "</style>\n",
       "<table border=\"1\" class=\"dataframe\">\n",
       "  <thead>\n",
       "    <tr style=\"text-align: right;\">\n",
       "      <th></th>\n",
       "      <th>NPI</th>\n",
       "      <th>Gender</th>\n",
       "      <th>State</th>\n",
       "      <th>Credentials</th>\n",
       "      <th>Specialty</th>\n",
       "      <th>ABILIFY</th>\n",
       "      <th>ACETAMINOPHEN.CODEINE</th>\n",
       "      <th>ACYCLOVIR</th>\n",
       "      <th>ADVAIR.DISKUS</th>\n",
       "      <th>AGGRENOX</th>\n",
       "      <th>...</th>\n",
       "      <th>VERAPAMIL.ER</th>\n",
       "      <th>VESICARE</th>\n",
       "      <th>VOLTAREN</th>\n",
       "      <th>VYTORIN</th>\n",
       "      <th>WARFARIN.SODIUM</th>\n",
       "      <th>XARELTO</th>\n",
       "      <th>ZETIA</th>\n",
       "      <th>ZIPRASIDONE.HCL</th>\n",
       "      <th>ZOLPIDEM.TARTRATE</th>\n",
       "      <th>Opioid.Prescriber</th>\n",
       "    </tr>\n",
       "  </thead>\n",
       "  <tbody>\n",
       "    <tr>\n",
       "      <td>0</td>\n",
       "      <td>1710982582</td>\n",
       "      <td>M</td>\n",
       "      <td>TX</td>\n",
       "      <td>DDS</td>\n",
       "      <td>Dentist</td>\n",
       "      <td>0</td>\n",
       "      <td>0</td>\n",
       "      <td>0</td>\n",
       "      <td>0</td>\n",
       "      <td>0</td>\n",
       "      <td>...</td>\n",
       "      <td>0</td>\n",
       "      <td>0</td>\n",
       "      <td>0</td>\n",
       "      <td>0</td>\n",
       "      <td>0</td>\n",
       "      <td>0</td>\n",
       "      <td>0</td>\n",
       "      <td>0</td>\n",
       "      <td>0</td>\n",
       "      <td>1</td>\n",
       "    </tr>\n",
       "    <tr>\n",
       "      <td>1</td>\n",
       "      <td>1245278100</td>\n",
       "      <td>F</td>\n",
       "      <td>AL</td>\n",
       "      <td>MD</td>\n",
       "      <td>General Surgery</td>\n",
       "      <td>0</td>\n",
       "      <td>0</td>\n",
       "      <td>0</td>\n",
       "      <td>0</td>\n",
       "      <td>0</td>\n",
       "      <td>...</td>\n",
       "      <td>0</td>\n",
       "      <td>0</td>\n",
       "      <td>0</td>\n",
       "      <td>0</td>\n",
       "      <td>0</td>\n",
       "      <td>0</td>\n",
       "      <td>0</td>\n",
       "      <td>0</td>\n",
       "      <td>35</td>\n",
       "      <td>1</td>\n",
       "    </tr>\n",
       "    <tr>\n",
       "      <td>2</td>\n",
       "      <td>1427182161</td>\n",
       "      <td>F</td>\n",
       "      <td>NY</td>\n",
       "      <td>M.D.</td>\n",
       "      <td>General Practice</td>\n",
       "      <td>0</td>\n",
       "      <td>0</td>\n",
       "      <td>0</td>\n",
       "      <td>0</td>\n",
       "      <td>0</td>\n",
       "      <td>...</td>\n",
       "      <td>0</td>\n",
       "      <td>0</td>\n",
       "      <td>0</td>\n",
       "      <td>0</td>\n",
       "      <td>0</td>\n",
       "      <td>0</td>\n",
       "      <td>0</td>\n",
       "      <td>0</td>\n",
       "      <td>25</td>\n",
       "      <td>0</td>\n",
       "    </tr>\n",
       "    <tr>\n",
       "      <td>3</td>\n",
       "      <td>1669567541</td>\n",
       "      <td>M</td>\n",
       "      <td>AZ</td>\n",
       "      <td>MD</td>\n",
       "      <td>Internal Medicine</td>\n",
       "      <td>0</td>\n",
       "      <td>43</td>\n",
       "      <td>0</td>\n",
       "      <td>0</td>\n",
       "      <td>0</td>\n",
       "      <td>...</td>\n",
       "      <td>0</td>\n",
       "      <td>0</td>\n",
       "      <td>0</td>\n",
       "      <td>0</td>\n",
       "      <td>0</td>\n",
       "      <td>0</td>\n",
       "      <td>0</td>\n",
       "      <td>0</td>\n",
       "      <td>0</td>\n",
       "      <td>1</td>\n",
       "    </tr>\n",
       "    <tr>\n",
       "      <td>4</td>\n",
       "      <td>1679650949</td>\n",
       "      <td>M</td>\n",
       "      <td>NV</td>\n",
       "      <td>M.D.</td>\n",
       "      <td>Hematology/Oncology</td>\n",
       "      <td>0</td>\n",
       "      <td>0</td>\n",
       "      <td>0</td>\n",
       "      <td>0</td>\n",
       "      <td>0</td>\n",
       "      <td>...</td>\n",
       "      <td>0</td>\n",
       "      <td>0</td>\n",
       "      <td>0</td>\n",
       "      <td>0</td>\n",
       "      <td>17</td>\n",
       "      <td>28</td>\n",
       "      <td>0</td>\n",
       "      <td>0</td>\n",
       "      <td>0</td>\n",
       "      <td>1</td>\n",
       "    </tr>\n",
       "  </tbody>\n",
       "</table>\n",
       "<p>5 rows × 256 columns</p>\n",
       "</div>"
      ],
      "text/plain": [
       "          NPI Gender State Credentials            Specialty  ABILIFY  \\\n",
       "0  1710982582      M    TX         DDS              Dentist        0   \n",
       "1  1245278100      F    AL          MD      General Surgery        0   \n",
       "2  1427182161      F    NY        M.D.     General Practice        0   \n",
       "3  1669567541      M    AZ          MD    Internal Medicine        0   \n",
       "4  1679650949      M    NV        M.D.  Hematology/Oncology        0   \n",
       "\n",
       "   ACETAMINOPHEN.CODEINE  ACYCLOVIR  ADVAIR.DISKUS  AGGRENOX  ...  \\\n",
       "0                      0          0              0         0  ...   \n",
       "1                      0          0              0         0  ...   \n",
       "2                      0          0              0         0  ...   \n",
       "3                     43          0              0         0  ...   \n",
       "4                      0          0              0         0  ...   \n",
       "\n",
       "   VERAPAMIL.ER  VESICARE  VOLTAREN  VYTORIN  WARFARIN.SODIUM  XARELTO  ZETIA  \\\n",
       "0             0         0         0        0                0        0      0   \n",
       "1             0         0         0        0                0        0      0   \n",
       "2             0         0         0        0                0        0      0   \n",
       "3             0         0         0        0                0        0      0   \n",
       "4             0         0         0        0               17       28      0   \n",
       "\n",
       "   ZIPRASIDONE.HCL  ZOLPIDEM.TARTRATE  Opioid.Prescriber  \n",
       "0                0                  0                  1  \n",
       "1                0                 35                  1  \n",
       "2                0                 25                  0  \n",
       "3                0                  0                  1  \n",
       "4                0                  0                  1  \n",
       "\n",
       "[5 rows x 256 columns]"
      ]
     },
     "execution_count": 5,
     "metadata": {},
     "output_type": "execute_result"
    }
   ],
   "source": [
    "prescriber.head()"
   ]
  },
  {
   "cell_type": "code",
   "execution_count": 6,
   "metadata": {},
   "outputs": [
    {
     "name": "stdout",
     "output_type": "stream",
     "text": [
      "Number of unique Specialties:  109\n"
     ]
    }
   ],
   "source": [
    "# Find how many unique Specialties there are within our datafram. \n",
    "print('Number of unique Specialties: ', len(prescriber['Specialty'].unique()))"
   ]
  },
  {
   "cell_type": "code",
   "execution_count": 7,
   "metadata": {},
   "outputs": [
    {
     "data": {
      "text/html": [
       "<div>\n",
       "<style scoped>\n",
       "    .dataframe tbody tr th:only-of-type {\n",
       "        vertical-align: middle;\n",
       "    }\n",
       "\n",
       "    .dataframe tbody tr th {\n",
       "        vertical-align: top;\n",
       "    }\n",
       "\n",
       "    .dataframe thead th {\n",
       "        text-align: right;\n",
       "    }\n",
       "</style>\n",
       "<table border=\"1\" class=\"dataframe\">\n",
       "  <thead>\n",
       "    <tr style=\"text-align: right;\">\n",
       "      <th></th>\n",
       "      <th>NPI</th>\n",
       "      <th>ABILIFY</th>\n",
       "      <th>ACETAMINOPHEN.CODEINE</th>\n",
       "      <th>ACYCLOVIR</th>\n",
       "      <th>ADVAIR.DISKUS</th>\n",
       "      <th>AGGRENOX</th>\n",
       "      <th>ALENDRONATE.SODIUM</th>\n",
       "      <th>ALLOPURINOL</th>\n",
       "      <th>ALPRAZOLAM</th>\n",
       "      <th>AMIODARONE.HCL</th>\n",
       "      <th>...</th>\n",
       "      <th>VERAPAMIL.ER</th>\n",
       "      <th>VESICARE</th>\n",
       "      <th>VOLTAREN</th>\n",
       "      <th>VYTORIN</th>\n",
       "      <th>WARFARIN.SODIUM</th>\n",
       "      <th>XARELTO</th>\n",
       "      <th>ZETIA</th>\n",
       "      <th>ZIPRASIDONE.HCL</th>\n",
       "      <th>ZOLPIDEM.TARTRATE</th>\n",
       "      <th>Opioid.Prescriber</th>\n",
       "    </tr>\n",
       "  </thead>\n",
       "  <tbody>\n",
       "    <tr>\n",
       "      <td>count</td>\n",
       "      <td>2.500000e+04</td>\n",
       "      <td>25000.000000</td>\n",
       "      <td>25000.000000</td>\n",
       "      <td>25000.00000</td>\n",
       "      <td>25000.000000</td>\n",
       "      <td>25000.000000</td>\n",
       "      <td>25000.000000</td>\n",
       "      <td>25000.000000</td>\n",
       "      <td>25000.00000</td>\n",
       "      <td>25000.000000</td>\n",
       "      <td>...</td>\n",
       "      <td>25000.00000</td>\n",
       "      <td>25000.000000</td>\n",
       "      <td>25000.000000</td>\n",
       "      <td>25000.000000</td>\n",
       "      <td>25000.000000</td>\n",
       "      <td>25000.000000</td>\n",
       "      <td>25000.000000</td>\n",
       "      <td>25000.000000</td>\n",
       "      <td>25000.000000</td>\n",
       "      <td>25000.000000</td>\n",
       "    </tr>\n",
       "    <tr>\n",
       "      <td>mean</td>\n",
       "      <td>1.498162e+09</td>\n",
       "      <td>3.157160</td>\n",
       "      <td>2.370400</td>\n",
       "      <td>1.05368</td>\n",
       "      <td>7.041000</td>\n",
       "      <td>0.708440</td>\n",
       "      <td>8.962840</td>\n",
       "      <td>9.305720</td>\n",
       "      <td>16.12812</td>\n",
       "      <td>2.394840</td>\n",
       "      <td>...</td>\n",
       "      <td>2.18804</td>\n",
       "      <td>2.238160</td>\n",
       "      <td>2.551600</td>\n",
       "      <td>0.806240</td>\n",
       "      <td>19.198040</td>\n",
       "      <td>3.348240</td>\n",
       "      <td>4.070880</td>\n",
       "      <td>1.119440</td>\n",
       "      <td>11.573120</td>\n",
       "      <td>0.587520</td>\n",
       "    </tr>\n",
       "    <tr>\n",
       "      <td>std</td>\n",
       "      <td>2.877233e+08</td>\n",
       "      <td>20.755819</td>\n",
       "      <td>11.631601</td>\n",
       "      <td>6.66110</td>\n",
       "      <td>25.898648</td>\n",
       "      <td>5.224049</td>\n",
       "      <td>36.520987</td>\n",
       "      <td>29.375476</td>\n",
       "      <td>69.35317</td>\n",
       "      <td>14.266314</td>\n",
       "      <td>...</td>\n",
       "      <td>10.08554</td>\n",
       "      <td>13.325884</td>\n",
       "      <td>23.327117</td>\n",
       "      <td>4.951929</td>\n",
       "      <td>86.501125</td>\n",
       "      <td>17.127556</td>\n",
       "      <td>18.467437</td>\n",
       "      <td>10.299475</td>\n",
       "      <td>39.136616</td>\n",
       "      <td>0.492291</td>\n",
       "    </tr>\n",
       "    <tr>\n",
       "      <td>min</td>\n",
       "      <td>1.003002e+09</td>\n",
       "      <td>0.000000</td>\n",
       "      <td>0.000000</td>\n",
       "      <td>0.00000</td>\n",
       "      <td>0.000000</td>\n",
       "      <td>0.000000</td>\n",
       "      <td>0.000000</td>\n",
       "      <td>0.000000</td>\n",
       "      <td>0.00000</td>\n",
       "      <td>0.000000</td>\n",
       "      <td>...</td>\n",
       "      <td>0.00000</td>\n",
       "      <td>0.000000</td>\n",
       "      <td>0.000000</td>\n",
       "      <td>0.000000</td>\n",
       "      <td>0.000000</td>\n",
       "      <td>0.000000</td>\n",
       "      <td>0.000000</td>\n",
       "      <td>0.000000</td>\n",
       "      <td>0.000000</td>\n",
       "      <td>0.000000</td>\n",
       "    </tr>\n",
       "    <tr>\n",
       "      <td>25%</td>\n",
       "      <td>1.245473e+09</td>\n",
       "      <td>0.000000</td>\n",
       "      <td>0.000000</td>\n",
       "      <td>0.00000</td>\n",
       "      <td>0.000000</td>\n",
       "      <td>0.000000</td>\n",
       "      <td>0.000000</td>\n",
       "      <td>0.000000</td>\n",
       "      <td>0.00000</td>\n",
       "      <td>0.000000</td>\n",
       "      <td>...</td>\n",
       "      <td>0.00000</td>\n",
       "      <td>0.000000</td>\n",
       "      <td>0.000000</td>\n",
       "      <td>0.000000</td>\n",
       "      <td>0.000000</td>\n",
       "      <td>0.000000</td>\n",
       "      <td>0.000000</td>\n",
       "      <td>0.000000</td>\n",
       "      <td>0.000000</td>\n",
       "      <td>0.000000</td>\n",
       "    </tr>\n",
       "    <tr>\n",
       "      <td>50%</td>\n",
       "      <td>1.497842e+09</td>\n",
       "      <td>0.000000</td>\n",
       "      <td>0.000000</td>\n",
       "      <td>0.00000</td>\n",
       "      <td>0.000000</td>\n",
       "      <td>0.000000</td>\n",
       "      <td>0.000000</td>\n",
       "      <td>0.000000</td>\n",
       "      <td>0.00000</td>\n",
       "      <td>0.000000</td>\n",
       "      <td>...</td>\n",
       "      <td>0.00000</td>\n",
       "      <td>0.000000</td>\n",
       "      <td>0.000000</td>\n",
       "      <td>0.000000</td>\n",
       "      <td>0.000000</td>\n",
       "      <td>0.000000</td>\n",
       "      <td>0.000000</td>\n",
       "      <td>0.000000</td>\n",
       "      <td>0.000000</td>\n",
       "      <td>1.000000</td>\n",
       "    </tr>\n",
       "    <tr>\n",
       "      <td>75%</td>\n",
       "      <td>1.740406e+09</td>\n",
       "      <td>0.000000</td>\n",
       "      <td>0.000000</td>\n",
       "      <td>0.00000</td>\n",
       "      <td>0.000000</td>\n",
       "      <td>0.000000</td>\n",
       "      <td>0.000000</td>\n",
       "      <td>0.000000</td>\n",
       "      <td>0.00000</td>\n",
       "      <td>0.000000</td>\n",
       "      <td>...</td>\n",
       "      <td>0.00000</td>\n",
       "      <td>0.000000</td>\n",
       "      <td>0.000000</td>\n",
       "      <td>0.000000</td>\n",
       "      <td>0.000000</td>\n",
       "      <td>0.000000</td>\n",
       "      <td>0.000000</td>\n",
       "      <td>0.000000</td>\n",
       "      <td>0.000000</td>\n",
       "      <td>1.000000</td>\n",
       "    </tr>\n",
       "    <tr>\n",
       "      <td>max</td>\n",
       "      <td>1.992999e+09</td>\n",
       "      <td>770.000000</td>\n",
       "      <td>644.000000</td>\n",
       "      <td>356.00000</td>\n",
       "      <td>1105.000000</td>\n",
       "      <td>275.000000</td>\n",
       "      <td>2431.000000</td>\n",
       "      <td>790.000000</td>\n",
       "      <td>5716.00000</td>\n",
       "      <td>596.000000</td>\n",
       "      <td>...</td>\n",
       "      <td>528.00000</td>\n",
       "      <td>902.000000</td>\n",
       "      <td>1814.000000</td>\n",
       "      <td>143.000000</td>\n",
       "      <td>6029.000000</td>\n",
       "      <td>596.000000</td>\n",
       "      <td>772.000000</td>\n",
       "      <td>694.000000</td>\n",
       "      <td>2107.000000</td>\n",
       "      <td>1.000000</td>\n",
       "    </tr>\n",
       "  </tbody>\n",
       "</table>\n",
       "<p>8 rows × 252 columns</p>\n",
       "</div>"
      ],
      "text/plain": [
       "                NPI       ABILIFY  ACETAMINOPHEN.CODEINE    ACYCLOVIR  \\\n",
       "count  2.500000e+04  25000.000000           25000.000000  25000.00000   \n",
       "mean   1.498162e+09      3.157160               2.370400      1.05368   \n",
       "std    2.877233e+08     20.755819              11.631601      6.66110   \n",
       "min    1.003002e+09      0.000000               0.000000      0.00000   \n",
       "25%    1.245473e+09      0.000000               0.000000      0.00000   \n",
       "50%    1.497842e+09      0.000000               0.000000      0.00000   \n",
       "75%    1.740406e+09      0.000000               0.000000      0.00000   \n",
       "max    1.992999e+09    770.000000             644.000000    356.00000   \n",
       "\n",
       "       ADVAIR.DISKUS      AGGRENOX  ALENDRONATE.SODIUM   ALLOPURINOL  \\\n",
       "count   25000.000000  25000.000000        25000.000000  25000.000000   \n",
       "mean        7.041000      0.708440            8.962840      9.305720   \n",
       "std        25.898648      5.224049           36.520987     29.375476   \n",
       "min         0.000000      0.000000            0.000000      0.000000   \n",
       "25%         0.000000      0.000000            0.000000      0.000000   \n",
       "50%         0.000000      0.000000            0.000000      0.000000   \n",
       "75%         0.000000      0.000000            0.000000      0.000000   \n",
       "max      1105.000000    275.000000         2431.000000    790.000000   \n",
       "\n",
       "        ALPRAZOLAM  AMIODARONE.HCL  ...  VERAPAMIL.ER      VESICARE  \\\n",
       "count  25000.00000    25000.000000  ...   25000.00000  25000.000000   \n",
       "mean      16.12812        2.394840  ...       2.18804      2.238160   \n",
       "std       69.35317       14.266314  ...      10.08554     13.325884   \n",
       "min        0.00000        0.000000  ...       0.00000      0.000000   \n",
       "25%        0.00000        0.000000  ...       0.00000      0.000000   \n",
       "50%        0.00000        0.000000  ...       0.00000      0.000000   \n",
       "75%        0.00000        0.000000  ...       0.00000      0.000000   \n",
       "max     5716.00000      596.000000  ...     528.00000    902.000000   \n",
       "\n",
       "           VOLTAREN       VYTORIN  WARFARIN.SODIUM       XARELTO  \\\n",
       "count  25000.000000  25000.000000     25000.000000  25000.000000   \n",
       "mean       2.551600      0.806240        19.198040      3.348240   \n",
       "std       23.327117      4.951929        86.501125     17.127556   \n",
       "min        0.000000      0.000000         0.000000      0.000000   \n",
       "25%        0.000000      0.000000         0.000000      0.000000   \n",
       "50%        0.000000      0.000000         0.000000      0.000000   \n",
       "75%        0.000000      0.000000         0.000000      0.000000   \n",
       "max     1814.000000    143.000000      6029.000000    596.000000   \n",
       "\n",
       "              ZETIA  ZIPRASIDONE.HCL  ZOLPIDEM.TARTRATE  Opioid.Prescriber  \n",
       "count  25000.000000     25000.000000       25000.000000       25000.000000  \n",
       "mean       4.070880         1.119440          11.573120           0.587520  \n",
       "std       18.467437        10.299475          39.136616           0.492291  \n",
       "min        0.000000         0.000000           0.000000           0.000000  \n",
       "25%        0.000000         0.000000           0.000000           0.000000  \n",
       "50%        0.000000         0.000000           0.000000           1.000000  \n",
       "75%        0.000000         0.000000           0.000000           1.000000  \n",
       "max      772.000000       694.000000        2107.000000           1.000000  \n",
       "\n",
       "[8 rows x 252 columns]"
      ]
     },
     "execution_count": 7,
     "metadata": {},
     "output_type": "execute_result"
    }
   ],
   "source": [
    "prescriber.describe()"
   ]
  },
  {
   "cell_type": "markdown",
   "metadata": {},
   "source": [
    "Quick check for any missing or null values within our dataset. We see that the Credentials column is the only one with any missing values. There are 763 missing values within that column. In general, we aren't too concerned with our prescribers credentials so we'll go ahead and remove it from our dataframe. We know they worked very hard to optain these credentials to enhance their careers but for us, by removing it we will lighten some bulk from our dataframe."
   ]
  },
  {
   "cell_type": "code",
   "execution_count": 8,
   "metadata": {},
   "outputs": [
    {
     "data": {
      "text/plain": [
       "NPI                    0\n",
       "Gender                 0\n",
       "State                  0\n",
       "Credentials          763\n",
       "Specialty              0\n",
       "                    ... \n",
       "XARELTO                0\n",
       "ZETIA                  0\n",
       "ZIPRASIDONE.HCL        0\n",
       "ZOLPIDEM.TARTRATE      0\n",
       "Opioid.Prescriber      0\n",
       "Length: 256, dtype: int64"
      ]
     },
     "execution_count": 8,
     "metadata": {},
     "output_type": "execute_result"
    }
   ],
   "source": [
    "# Find any NaN listings in the Specialty column\n",
    "prescriber.isnull().sum()"
   ]
  },
  {
   "cell_type": "code",
   "execution_count": 9,
   "metadata": {},
   "outputs": [],
   "source": [
    "# Since we'll focus on the Specialty column, we'll go ahead and remove the Credentials column\n",
    "# We also don't need the actual NPI numbers so we'll remove that column as well\n",
    "prescriber.drop('Credentials', axis=1, inplace=True)"
   ]
  },
  {
   "cell_type": "markdown",
   "metadata": {},
   "source": [
    "To help cut down on some of our dataframe a quick check within the State column shows a return of US territories. For our dataframe, we'll keep the data to states within the US, so we'll remove any territories from our dataframe. We also see that DC is listed as a state. We'll add DC's data in with their neighboring state of Virginia."
   ]
  },
  {
   "cell_type": "code",
   "execution_count": 10,
   "metadata": {},
   "outputs": [],
   "source": [
    "#Running a value count on the State column shows us some extra non US states. We'll drop the non states and add DC into VA\n",
    "prescriber['State'].value_counts()\n",
    "\n",
    "# Drop non US States: PR, AA, GU, AE, ZZ\n",
    "prescriber = prescriber[(prescriber.State != 'GU') & (prescriber.State != 'AA')\n",
    "                        & (prescriber.State != 'PR') & (prescriber.State != 'AE') & (prescriber.State != 'ZZ')\n",
    "                        & (prescriber.State != 'VI')]"
   ]
  },
  {
   "cell_type": "code",
   "execution_count": 11,
   "metadata": {},
   "outputs": [],
   "source": [
    "# Move any rows with DC into VA by renaming DC to VA\n",
    "prescriber['State'] = prescriber['State'].str.replace('DC', 'VA')"
   ]
  },
  {
   "cell_type": "code",
   "execution_count": 12,
   "metadata": {},
   "outputs": [
    {
     "data": {
      "text/plain": [
       "CA    2562\n",
       "NY    1956\n",
       "FL    1570\n",
       "TX    1500\n",
       "PA    1211\n",
       "Name: State, dtype: int64"
      ]
     },
     "execution_count": 12,
     "metadata": {},
     "output_type": "execute_result"
    }
   ],
   "source": [
    "#We can take a quick peak at the top 5 States found within our datafram\n",
    "prescriber['State'].value_counts().head()"
   ]
  },
  {
   "cell_type": "markdown",
   "metadata": {},
   "source": [
    "# Identifying opioid drug names"
   ]
  },
  {
   "cell_type": "markdown",
   "metadata": {},
   "source": [
    "Now that we have cleaned up our dataframe a bit we can start looking at the data a bit better. We will start by identifying opioids by comparing drug names found in the prescriber dataframe and drug names found in the opioid dataframe. Identifying the opioids will help us with our various comparisons between regularly prescribed drugs and opioids."
   ]
  },
  {
   "cell_type": "code",
   "execution_count": 13,
   "metadata": {},
   "outputs": [
    {
     "data": {
      "text/plain": [
       "['MORPHINE.SULFATE.ER',\n",
       " 'METHADONE.HCL',\n",
       " 'HYDROCODONE.ACETAMINOPHEN',\n",
       " 'ACETAMINOPHEN.CODEINE',\n",
       " 'HYDROMORPHONE.HCL',\n",
       " 'MORPHINE.SULFATE',\n",
       " 'TRAMADOL.HCL',\n",
       " 'FENTANYL',\n",
       " 'OXYCODONE.HCL',\n",
       " 'OXYCODONE.ACETAMINOPHEN',\n",
       " 'OXYCONTIN']"
      ]
     },
     "execution_count": 13,
     "metadata": {},
     "output_type": "execute_result"
    }
   ],
   "source": [
    "#Compare opioids df with prescrition df to find opioids\n",
    "opi = list(re.sub(r'[-\\s]','.',x) for x in opioids.values[:,0])\n",
    "opi_presc = list(set(opi) & set(prescriber.columns))\n",
    "\n",
    "opi_presc"
   ]
  },
  {
   "cell_type": "code",
   "execution_count": 14,
   "metadata": {},
   "outputs": [],
   "source": [
    "#Using these 11 opioid drug names we'll create a column with the number of opioids prescribed by each NPI\n",
    "#SumOpi column represents each row and how many times the NPI prescribed opioids\n",
    "prescriber['SumOpi'] = prescriber[opi_presc].sum(axis=1)\n",
    "\n",
    "#Create a column with the number of total opioids prescribed by each NPI\n",
    "#TotPresc column represents each row and how many times the NPI prescribed drugs in general\n",
    "prescriber['TotPresc'] = (prescriber.iloc[:,4:254]).sum(axis=1)\n"
   ]
  },
  {
   "cell_type": "markdown",
   "metadata": {},
   "source": [
    "# Specialist who didn't prescribe opioids"
   ]
  },
  {
   "cell_type": "code",
   "execution_count": 15,
   "metadata": {},
   "outputs": [
    {
     "name": "stdout",
     "output_type": "stream",
     "text": [
      "This is how many Specialist didn't prescribe any of the listed opioids:  12071\n"
     ]
    }
   ],
   "source": [
    "#Since dataframe containts prescribers who didn't prescribe any of the mentioned opioids, we'll identify them\n",
    "\n",
    "#non opioid prescribing doctors\n",
    "non_prescribed = prescriber[prescriber['SumOpi'] == 0]\n",
    "\n",
    "#Create a column of total non opioid prescriptions prescribed by each NPI\n",
    "prescriber['NonOpi'] = prescriber['TotPresc'] - prescriber[opi_presc].sum(axis=1)\n",
    "\n",
    "print(\"This is how many Specialist didn't prescribe any of the listed opioids: \", (prescriber['SumOpi'] == 0).sum())"
   ]
  },
  {
   "cell_type": "markdown",
   "metadata": {},
   "source": [
    "# Specialist who did prescribe opioids"
   ]
  },
  {
   "cell_type": "code",
   "execution_count": 16,
   "metadata": {},
   "outputs": [],
   "source": [
    "#Since there were quite a few specialists who didn't prescribe opioids we'll make a dataframe Opioid Prescribing doctors without the ones who didn't\n",
    "opi_prescribers = prescriber.drop(prescriber[prescriber.SumOpi == 0].index)"
   ]
  },
  {
   "cell_type": "markdown",
   "metadata": {},
   "source": [
    "# Creating Separate Groupby"
   ]
  },
  {
   "cell_type": "code",
   "execution_count": 17,
   "metadata": {},
   "outputs": [],
   "source": [
    "#Create variables to easily group certain columns together\n",
    "state = prescriber['State']\n",
    "gender = prescriber['Gender']\n",
    "specialty = prescriber['Specialty']\n",
    "opi = opi_prescribers[['HYDROMORPHONE.HCL',\n",
    " 'OXYCONTIN',\n",
    " 'OXYCODONE.HCL',\n",
    " 'TRAMADOL.HCL',\n",
    " 'MORPHINE.SULFATE.ER',\n",
    " 'HYDROCODONE.ACETAMINOPHEN',\n",
    " 'FENTANYL',\n",
    " 'MORPHINE.SULFATE',\n",
    " 'METHADONE.HCL',\n",
    " 'OXYCODONE.ACETAMINOPHEN',\n",
    " 'ACETAMINOPHEN.CODEINE']]"
   ]
  },
  {
   "cell_type": "markdown",
   "metadata": {},
   "source": [
    "# We can start looking at the data with a focus on the states"
   ]
  },
  {
   "cell_type": "code",
   "execution_count": 18,
   "metadata": {},
   "outputs": [
    {
     "data": {
      "text/html": [
       "<div>\n",
       "<style scoped>\n",
       "    .dataframe tbody tr th:only-of-type {\n",
       "        vertical-align: middle;\n",
       "    }\n",
       "\n",
       "    .dataframe tbody tr th {\n",
       "        vertical-align: top;\n",
       "    }\n",
       "\n",
       "    .dataframe thead th {\n",
       "        text-align: right;\n",
       "    }\n",
       "</style>\n",
       "<table border=\"1\" class=\"dataframe\">\n",
       "  <thead>\n",
       "    <tr style=\"text-align: right;\">\n",
       "      <th></th>\n",
       "      <th>HYDROMORPHONE.HCL</th>\n",
       "      <th>OXYCONTIN</th>\n",
       "      <th>OXYCODONE.HCL</th>\n",
       "      <th>TRAMADOL.HCL</th>\n",
       "      <th>MORPHINE.SULFATE.ER</th>\n",
       "      <th>HYDROCODONE.ACETAMINOPHEN</th>\n",
       "      <th>FENTANYL</th>\n",
       "      <th>MORPHINE.SULFATE</th>\n",
       "      <th>METHADONE.HCL</th>\n",
       "      <th>OXYCODONE.ACETAMINOPHEN</th>\n",
       "      <th>ACETAMINOPHEN.CODEINE</th>\n",
       "    </tr>\n",
       "    <tr>\n",
       "      <th>State</th>\n",
       "      <th></th>\n",
       "      <th></th>\n",
       "      <th></th>\n",
       "      <th></th>\n",
       "      <th></th>\n",
       "      <th></th>\n",
       "      <th></th>\n",
       "      <th></th>\n",
       "      <th></th>\n",
       "      <th></th>\n",
       "      <th></th>\n",
       "    </tr>\n",
       "  </thead>\n",
       "  <tbody>\n",
       "    <tr>\n",
       "      <td>AK</td>\n",
       "      <td>84</td>\n",
       "      <td>31</td>\n",
       "      <td>217</td>\n",
       "      <td>118</td>\n",
       "      <td>157</td>\n",
       "      <td>430</td>\n",
       "      <td>41</td>\n",
       "      <td>11</td>\n",
       "      <td>69</td>\n",
       "      <td>87</td>\n",
       "      <td>11</td>\n",
       "    </tr>\n",
       "    <tr>\n",
       "      <td>AL</td>\n",
       "      <td>222</td>\n",
       "      <td>716</td>\n",
       "      <td>1641</td>\n",
       "      <td>15264</td>\n",
       "      <td>1100</td>\n",
       "      <td>34560</td>\n",
       "      <td>1738</td>\n",
       "      <td>488</td>\n",
       "      <td>709</td>\n",
       "      <td>4001</td>\n",
       "      <td>920</td>\n",
       "    </tr>\n",
       "    <tr>\n",
       "      <td>AR</td>\n",
       "      <td>235</td>\n",
       "      <td>364</td>\n",
       "      <td>2065</td>\n",
       "      <td>5433</td>\n",
       "      <td>1174</td>\n",
       "      <td>16788</td>\n",
       "      <td>941</td>\n",
       "      <td>193</td>\n",
       "      <td>573</td>\n",
       "      <td>2475</td>\n",
       "      <td>580</td>\n",
       "    </tr>\n",
       "    <tr>\n",
       "      <td>AZ</td>\n",
       "      <td>728</td>\n",
       "      <td>1678</td>\n",
       "      <td>8526</td>\n",
       "      <td>7284</td>\n",
       "      <td>5101</td>\n",
       "      <td>16095</td>\n",
       "      <td>1436</td>\n",
       "      <td>958</td>\n",
       "      <td>1032</td>\n",
       "      <td>8770</td>\n",
       "      <td>1102</td>\n",
       "    </tr>\n",
       "    <tr>\n",
       "      <td>CA</td>\n",
       "      <td>2996</td>\n",
       "      <td>3351</td>\n",
       "      <td>6748</td>\n",
       "      <td>30379</td>\n",
       "      <td>8313</td>\n",
       "      <td>110347</td>\n",
       "      <td>5677</td>\n",
       "      <td>1471</td>\n",
       "      <td>4012</td>\n",
       "      <td>11723</td>\n",
       "      <td>9133</td>\n",
       "    </tr>\n",
       "  </tbody>\n",
       "</table>\n",
       "</div>"
      ],
      "text/plain": [
       "       HYDROMORPHONE.HCL  OXYCONTIN  OXYCODONE.HCL  TRAMADOL.HCL  \\\n",
       "State                                                              \n",
       "AK                    84         31            217           118   \n",
       "AL                   222        716           1641         15264   \n",
       "AR                   235        364           2065          5433   \n",
       "AZ                   728       1678           8526          7284   \n",
       "CA                  2996       3351           6748         30379   \n",
       "\n",
       "       MORPHINE.SULFATE.ER  HYDROCODONE.ACETAMINOPHEN  FENTANYL  \\\n",
       "State                                                             \n",
       "AK                     157                        430        41   \n",
       "AL                    1100                      34560      1738   \n",
       "AR                    1174                      16788       941   \n",
       "AZ                    5101                      16095      1436   \n",
       "CA                    8313                     110347      5677   \n",
       "\n",
       "       MORPHINE.SULFATE  METHADONE.HCL  OXYCODONE.ACETAMINOPHEN  \\\n",
       "State                                                             \n",
       "AK                   11             69                       87   \n",
       "AL                  488            709                     4001   \n",
       "AR                  193            573                     2475   \n",
       "AZ                  958           1032                     8770   \n",
       "CA                 1471           4012                    11723   \n",
       "\n",
       "       ACETAMINOPHEN.CODEINE  \n",
       "State                         \n",
       "AK                        11  \n",
       "AL                       920  \n",
       "AR                       580  \n",
       "AZ                      1102  \n",
       "CA                      9133  "
      ]
     },
     "execution_count": 18,
     "metadata": {},
     "output_type": "execute_result"
    }
   ],
   "source": [
    "# Sum of Opioids prescribed by State\n",
    "df_op_state = opi.groupby(state).sum()\n",
    "\n",
    "df_op_state.head()"
   ]
  },
  {
   "cell_type": "code",
   "execution_count": 19,
   "metadata": {},
   "outputs": [
    {
     "name": "stdout",
     "output_type": "stream",
     "text": [
      "CA    2562\n",
      "NY    1956\n",
      "FL    1570\n",
      "TX    1500\n",
      "PA    1211\n",
      "Name: State, dtype: int64\n"
     ]
    },
    {
     "data": {
      "text/plain": [
       "<matplotlib.axes._subplots.AxesSubplot at 0x24ef91f18c8>"
      ]
     },
     "execution_count": 19,
     "metadata": {},
     "output_type": "execute_result"
    },
    {
     "data": {
      "image/png": "[encoded data removed]",
      "text/plain": [
       "<Figure size 864x720 with 1 Axes>"
      ]
     },
     "metadata": {
      "needs_background": "light"
     },
     "output_type": "display_data"
    }
   ],
   "source": [
    "#Value Count for number top 40 in Specialty column\n",
    "states_value = prescriber.State.value_counts()\n",
    "print(states_value.head())\n",
    "states_value.sort_values(ascending=True).plot(kind='barh', figsize=(12,10), title= \"Bar Graph of States Value Count\")"
   ]
  },
  {
   "cell_type": "code",
   "execution_count": 28,
   "metadata": {},
   "outputs": [
    {
     "name": "stdout",
     "output_type": "stream",
     "text": [
      "Top 10 States with the most opioid prescriptions: \n",
      " State\n",
      "CA    1293\n",
      "TX     864\n",
      "FL     750\n",
      "NY     711\n",
      "PA     587\n",
      "OH     503\n",
      "IL     499\n",
      "MI     485\n",
      "NC     438\n",
      "GA     352\n",
      "Name: NPI, dtype: int64\n",
      "\n",
      "Top 10 States with the most total prescriptions: \n",
      " State\n",
      "CA    2562\n",
      "NY    1956\n",
      "FL    1570\n",
      "TX    1500\n",
      "PA    1211\n",
      "IL    1002\n",
      "OH     981\n",
      "MI     872\n",
      "NC     778\n",
      "MA     725\n",
      "Name: NPI, dtype: int64\n"
     ]
    }
   ],
   "source": [
    "states_opi = prescriber[prescriber['SumOpi'] > 0].groupby('State').count()['NPI']\n",
    "print('Top 10 States with the most opioid prescriptions: \\n', states_opi.sort_values(ascending=False).head(10))\n",
    "print()\n",
    "\n",
    "states_tot = prescriber[prescriber['TotPresc'] > 0].groupby('State').count()['NPI']\n",
    "print('Top 10 States with the most total prescriptions: \\n',states_tot.sort_values(ascending=False).head(10))"
   ]
  },
  {
   "cell_type": "code",
   "execution_count": 29,
   "metadata": {},
   "outputs": [
    {
     "data": {
      "text/plain": [
       "<matplotlib.axes._subplots.AxesSubplot at 0x24e89de04c8>"
      ]
     },
     "execution_count": 29,
     "metadata": {},
     "output_type": "execute_result"
    },
    {
     "data": {
      "image/png": "[encoded data removed]",
      "text/plain": [
       "<Figure size 864x720 with 1 Axes>"
      ]
     },
     "metadata": {
      "needs_background": "light"
     },
     "output_type": "display_data"
    }
   ],
   "source": [
    "#We'll create a bar graph resprenting the 50 states and compare Total Prescriptions vs Total Opioids Prescribed\n",
    "ax = states_tot.plot(kind='bar', color='r', width=.5, legend=(), title=\"State: Total Prescriptions vs Total Opioids Prescribed\")\n",
    "states_opi.plot(kind='bar', color='blue', width=.5, legend=(), alpha=1,figsize=(12,10))"
   ]
  },
  {
   "cell_type": "code",
   "execution_count": 30,
   "metadata": {},
   "outputs": [],
   "source": [
    "#To get an idea if there's a trend between certain regions throughout the country we can catagorize states into 4 reginal values: North East, Central, South, West\n",
    "\n",
    "north_east = prescriber[prescriber['State'].isin(['ME', 'NH', 'MA', 'CO', 'VT', 'RI', 'NY', 'PA', 'NJ', 'CT', 'MD', 'VA'])]\n",
    "central = prescriber[prescriber['State'].isin(['WI', 'MI', 'IL', 'IN', 'OH', 'MN', 'ND', 'SD', 'NE', 'KS', 'IA', 'MO'])]\n",
    "south = prescriber[prescriber['State'].isin(['WV', 'NC', 'SC', 'GA', 'FL', 'MS', 'TN', 'KY', 'AL', 'LA', 'AR', 'TX', 'OK'])]\n",
    "west = prescriber[prescriber['State'].isin(['CO', 'NM', 'AZ', 'UT', 'MO', 'NV', 'ID', 'CA', 'WA', 'WY', 'OR', 'HI', 'AK'])]"
   ]
  },
  {
   "cell_type": "code",
   "execution_count": 31,
   "metadata": {},
   "outputs": [
    {
     "data": {
      "image/png": "[encoded data removed]",
      "text/plain": [
       "<Figure size 432x288 with 1 Axes>"
      ]
     },
     "metadata": {},
     "output_type": "display_data"
    }
   ],
   "source": [
    "w=west['State'].count()\n",
    "ne = north_east['State'].count()\n",
    "c=central['State'].count()\n",
    "s = south['State'].count()\n",
    "labels1= ['West', 'North East', 'Central', 'South']\n",
    "area=[w,ne,c,s]\n",
    "\n",
    "plt.pie(area, labels=labels1, autopct='%.2f %%')\n",
    "plt.axis('equal')\n",
    "plt.title('Prescriptions by 4 territorial regions of American', fontsize=18)\n",
    "plt.show()"
   ]
  },
  {
   "cell_type": "markdown",
   "metadata": {},
   "source": [
    "# We can start looking at the data with a focus on the specialties"
   ]
  },
  {
   "cell_type": "code",
   "execution_count": 32,
   "metadata": {},
   "outputs": [
    {
     "name": "stdout",
     "output_type": "stream",
     "text": [
      "Internal Medicine                                                 3162\n",
      "Family Practice                                                   2967\n",
      "Dentist                                                           2771\n",
      "Nurse Practitioner                                                2511\n",
      "Physician Assistant                                               1838\n",
      "Emergency Medicine                                                1081\n",
      "Psychiatry                                                         686\n",
      "Cardiology                                                         679\n",
      "Obstetrics/Gynecology                                              606\n",
      "Orthopedic Surgery                                                 572\n",
      "Optometry                                                          571\n",
      "Student in an Organized Health Care Education/Training Program     545\n",
      "Ophthalmology                                                      514\n",
      "General Surgery                                                    484\n",
      "Gastroenterology                                                   394\n",
      "Podiatry                                                           367\n",
      "Neurology                                                          364\n",
      "Dermatology                                                        343\n",
      "Urology                                                            328\n",
      "Psychiatry & Neurology                                             263\n",
      "Pulmonary Disease                                                  262\n",
      "Otolaryngology                                                     255\n",
      "Nephrology                                                         233\n",
      "Hematology/Oncology                                                214\n",
      "Physical Medicine and Rehabilitation                               195\n",
      "General Practice                                                   176\n",
      "Endocrinology                                                      152\n",
      "Pediatric Medicine                                                 144\n",
      "Oral Surgery (dentists only)                                       140\n",
      "Anesthesiology                                                     138\n",
      "Rheumatology                                                       130\n",
      "Allergy/Immunology                                                 119\n",
      "Infectious Disease                                                 117\n",
      "Plastic and Reconstructive Surgery                                  99\n",
      "Radiation Oncology                                                  87\n",
      "Medical Oncology                                                    84\n",
      "Neurosurgery                                                        82\n",
      "Certified Clinical Nurse Specialist                                 70\n",
      "Vascular Surgery                                                    65\n",
      "Geriatric Medicine                                                  59\n",
      "Name: Specialty, dtype: int64\n"
     ]
    }
   ],
   "source": [
    "#Value Count for number top 40 in Specialty column\n",
    "spec = prescriber.Specialty.value_counts().head(40)\n",
    "print(spec)"
   ]
  },
  {
   "cell_type": "code",
   "execution_count": 33,
   "metadata": {},
   "outputs": [
    {
     "data": {
      "text/plain": [
       "<matplotlib.axes._subplots.AxesSubplot at 0x24e8a1c29c8>"
      ]
     },
     "execution_count": 33,
     "metadata": {},
     "output_type": "execute_result"
    },
    {
     "data": {
      "image/png": "[encoded data removed]",
      "text/plain": [
       "<Figure size 864x720 with 1 Axes>"
      ]
     },
     "metadata": {
      "needs_background": "light"
     },
     "output_type": "display_data"
    }
   ],
   "source": [
    "#Create a horizontal bar graph with the Top 40 Specialties based on value count\n",
    "spec.sort_values(ascending=True).plot(kind='barh', figsize=(12,10), title= \"Top 40 Specialties\")"
   ]
  },
  {
   "cell_type": "code",
   "execution_count": 34,
   "metadata": {},
   "outputs": [
    {
     "name": "stdout",
     "output_type": "stream",
     "text": [
      "Family Practice                                                   2402\n",
      "Internal Medicine                                                 2057\n",
      "Nurse Practitioner                                                1165\n",
      "Physician Assistant                                               1113\n",
      "Emergency Medicine                                                 990\n",
      "Dentist                                                            816\n",
      "Orthopedic Surgery                                                 547\n",
      "General Surgery                                                    420\n",
      "Urology                                                            237\n",
      "Podiatry                                                           186\n",
      "Hematology/Oncology                                                173\n",
      "Student in an Organized Health Care Education/Training Program     172\n",
      "Physical Medicine and Rehabilitation                               161\n",
      "Neurology                                                          150\n",
      "General Practice                                                   124\n",
      "Oral Surgery (dentists only)                                       123\n",
      "Otolaryngology                                                     123\n",
      "Cardiology                                                         119\n",
      "Rheumatology                                                       114\n",
      "Nephrology                                                         106\n",
      "Name: Specialty, dtype: int64\n"
     ]
    }
   ],
   "source": [
    "#We can see how this chart will look once we rework it with our opioid prescribing and non opoiod prescribing specialists\n",
    "\n",
    "#Starting with Opioid prescribing specialists\n",
    "spec_opi = opi_prescribers.Specialty.value_counts().head(40)\n",
    "print(spec_opi.head(20))"
   ]
  },
  {
   "cell_type": "code",
   "execution_count": 35,
   "metadata": {},
   "outputs": [
    {
     "name": "stdout",
     "output_type": "stream",
     "text": [
      "Dentist                                                           1955\n",
      "Nurse Practitioner                                                1346\n",
      "Internal Medicine                                                 1105\n",
      "Physician Assistant                                                725\n",
      "Psychiatry                                                         638\n",
      "Optometry                                                          570\n",
      "Family Practice                                                    565\n",
      "Cardiology                                                         560\n",
      "Obstetrics/Gynecology                                              517\n",
      "Ophthalmology                                                      459\n",
      "Student in an Organized Health Care Education/Training Program     373\n",
      "Gastroenterology                                                   323\n",
      "Dermatology                                                        293\n",
      "Psychiatry & Neurology                                             256\n",
      "Neurology                                                          214\n",
      "Pulmonary Disease                                                  208\n",
      "Podiatry                                                           181\n",
      "Otolaryngology                                                     132\n",
      "Nephrology                                                         127\n",
      "Endocrinology                                                      125\n",
      "Name: Specialty, dtype: int64\n"
     ]
    }
   ],
   "source": [
    "#Starting with Opioid prescribing specialists\n",
    "spec_non = non_prescribed.Specialty.value_counts().head(40)\n",
    "print(spec_non.head(20))"
   ]
  },
  {
   "cell_type": "code",
   "execution_count": 36,
   "metadata": {},
   "outputs": [
    {
     "data": {
      "image/png": "[encoded data removed]",
      "text/plain": [
       "<Figure size 864x720 with 1 Axes>"
      ]
     },
     "metadata": {
      "needs_background": "light"
     },
     "output_type": "display_data"
    }
   ],
   "source": [
    "ax1 = spec_non.plot(kind='barh', color='r', width=.5, title=\"Specialty: Top 40 Non Opioid Prescribing Specialists\", figsize=(12,10))"
   ]
  },
  {
   "cell_type": "code",
   "execution_count": 37,
   "metadata": {},
   "outputs": [
    {
     "data": {
      "image/png": "[encoded data removed]",
      "text/plain": [
       "<Figure size 864x720 with 1 Axes>"
      ]
     },
     "metadata": {
      "needs_background": "light"
     },
     "output_type": "display_data"
    }
   ],
   "source": [
    "ax2= spec_opi.plot(kind='barh', color='blue', width=.5, title=\"Specialty: Top 40 Opioid Prescribing Specialists\", figsize=(12,10))"
   ]
  },
  {
   "cell_type": "markdown",
   "metadata": {},
   "source": [
    "As we can see from these bar graphs, the type of specialists differ between the the criterias of non opioid prescribers and opioid prescribers."
   ]
  },
  {
   "cell_type": "code",
   "execution_count": 38,
   "metadata": {},
   "outputs": [
    {
     "name": "stdout",
     "output_type": "stream",
     "text": [
      "\n",
      "Percentage of Prescriptions from the top 5 prescribers: \n",
      "                      Value  Percent\n",
      "Dentist               1955    16.20\n",
      "Nurse Practitioner    1346    11.15\n",
      "Internal Medicine     1105     9.15\n",
      "Physician Assistant    725     6.01\n",
      "Psychiatry             638     5.29\n"
     ]
    }
   ],
   "source": [
    "#Create a dataframe to formulate the percentage of prescriptions that come from the top 5 Specialties\n",
    "percent_presc = pd.DataFrame()\n",
    "percent_presc['Value'] = non_prescribed['Specialty'].value_counts()\n",
    "percent_presc['Percent'] = percent_presc/sum(percent_presc['Value'])*100\n",
    "\n",
    "\n",
    "#Print out the top 5 specialties and their percentages in reference to the rest of the specialties\n",
    "print()\n",
    "print('Percentage of Prescriptions from the top 5 prescribers: \\n',round(percent_presc[['Value','Percent']].head(5),2))"
   ]
  },
  {
   "cell_type": "code",
   "execution_count": 39,
   "metadata": {},
   "outputs": [
    {
     "name": "stdout",
     "output_type": "stream",
     "text": [
      "\n",
      "Percentage of Prescriptions from the top 5 prescribers: \n",
      "                      Value Opi  Percent Opi\n",
      "Family Practice           2402        18.93\n",
      "Internal Medicine         2057        16.21\n",
      "Nurse Practitioner        1165         9.18\n",
      "Physician Assistant       1113         8.77\n",
      "Emergency Medicine         990         7.80\n"
     ]
    }
   ],
   "source": [
    "#Create a dataframe to formulate the percentage of prescriptions that come from the top 5 Specialties who prescribed opioids\n",
    "percent_presc2 = pd.DataFrame()\n",
    "\n",
    "\n",
    "percent_presc2['Value Opi'] = opi_prescribers['Specialty'].value_counts()\n",
    "percent_presc2['Percent Opi'] = percent_presc2/sum(percent_presc2['Value Opi'])*100\n",
    "\n",
    "#Print out the top 5 specialties and their percentages in reference to the rest of the specialties\n",
    "print()\n",
    "print('Percentage of Prescriptions from the top 5 prescribers: \\n',round(percent_presc2[['Value Opi', 'Percent Opi']].head(5),2))"
   ]
  },
  {
   "cell_type": "markdown",
   "metadata": {},
   "source": [
    "# We can start looking at the data with a focus on the gender"
   ]
  },
  {
   "cell_type": "code",
   "execution_count": 40,
   "metadata": {},
   "outputs": [],
   "source": [
    "#We'll 1st bring together the total number of Female and Male opioid prescribers within our dataframe\n",
    "female = opi_prescribers.loc[opi_prescribers['Gender'] == 'F'].count()[0]\n",
    "male = opi_prescribers.loc[opi_prescribers['Gender'] == 'M'].count()[0]"
   ]
  },
  {
   "cell_type": "code",
   "execution_count": 41,
   "metadata": {},
   "outputs": [
    {
     "data": {
      "image/png": "[encoded data removed]",
      "text/plain": [
       "<Figure size 432x288 with 2 Axes>"
      ]
     },
     "metadata": {},
     "output_type": "display_data"
    },
    {
     "name": "stdout",
     "output_type": "stream",
     "text": [
      "Gender Difference of Non Opioid Prescribers:\n",
      "  Gender\n",
      "F    5025\n",
      "M    7046\n",
      "dtype: int64\n",
      "\n",
      "Gender Difference of Prescribers:\n",
      "  Gender\n",
      "F     9363\n",
      "M    15396\n",
      "dtype: int64\n"
     ]
    }
   ],
   "source": [
    "#Now we'll bring together the total number of Female and Male non opioid prescribers within our dataframe\n",
    "non_presc_female = non_prescribed.loc[non_prescribed['Gender'] == 'F'].count()[0]\n",
    "non_presc_male = non_prescribed.loc[non_prescribed['Gender'] == 'M'].count()[0]\n",
    "\n",
    "labels = ['Female', 'Male']\n",
    "colors = ['r', 'b']\n",
    "\n",
    "plt.subplot(1,2,1)\n",
    "plt.pie([non_presc_female, non_presc_male], labels=labels, colors=colors, autopct='%.2f %%', textprops=dict(color=\"k\"))\n",
    "plt.title('Gender Difference of Non Opioid Prescribers', fontsize=10)\n",
    "plt.subplot(1,2,2)\n",
    "plt.pie([female, male], labels=labels, colors=colors, autopct='%.2f %%', textprops=dict(color=\"k\"))\n",
    "plt.title('Gender Difference of Prescribers', fontsize=10)\n",
    "plt.tight_layout(pad=2.8)\n",
    "plt.show()\n",
    "\n",
    "print('Gender Difference of Non Opioid Prescribers:\\n ',non_prescribed.groupby(by='Gender').size())\n",
    "print()\n",
    "print('Gender Difference of Prescribers:\\n ',prescriber.groupby(by='Gender').size())"
   ]
  },
  {
   "cell_type": "markdown",
   "metadata": {},
   "source": [
    "# We can start looking at the data found within the overdoses dataframe"
   ]
  },
  {
   "cell_type": "code",
   "execution_count": 42,
   "metadata": {},
   "outputs": [],
   "source": [
    "# Taking a look at the Overdose Dataframe"
   ]
  },
  {
   "cell_type": "code",
   "execution_count": 43,
   "metadata": {},
   "outputs": [
    {
     "data": {
      "text/html": [
       "<div>\n",
       "<style scoped>\n",
       "    .dataframe tbody tr th:only-of-type {\n",
       "        vertical-align: middle;\n",
       "    }\n",
       "\n",
       "    .dataframe tbody tr th {\n",
       "        vertical-align: top;\n",
       "    }\n",
       "\n",
       "    .dataframe thead th {\n",
       "        text-align: right;\n",
       "    }\n",
       "</style>\n",
       "<table border=\"1\" class=\"dataframe\">\n",
       "  <thead>\n",
       "    <tr style=\"text-align: right;\">\n",
       "      <th></th>\n",
       "      <th>State</th>\n",
       "      <th>Population</th>\n",
       "      <th>Deaths</th>\n",
       "      <th>Abbrev</th>\n",
       "    </tr>\n",
       "  </thead>\n",
       "  <tbody>\n",
       "    <tr>\n",
       "      <td>0</td>\n",
       "      <td>Alabama</td>\n",
       "      <td>4833722</td>\n",
       "      <td>723</td>\n",
       "      <td>AL</td>\n",
       "    </tr>\n",
       "    <tr>\n",
       "      <td>1</td>\n",
       "      <td>Alaska</td>\n",
       "      <td>735132</td>\n",
       "      <td>124</td>\n",
       "      <td>AK</td>\n",
       "    </tr>\n",
       "    <tr>\n",
       "      <td>2</td>\n",
       "      <td>Arizona</td>\n",
       "      <td>6626624</td>\n",
       "      <td>1211</td>\n",
       "      <td>AZ</td>\n",
       "    </tr>\n",
       "    <tr>\n",
       "      <td>3</td>\n",
       "      <td>Arkansas</td>\n",
       "      <td>2959373</td>\n",
       "      <td>356</td>\n",
       "      <td>AR</td>\n",
       "    </tr>\n",
       "    <tr>\n",
       "      <td>4</td>\n",
       "      <td>California</td>\n",
       "      <td>38332521</td>\n",
       "      <td>4521</td>\n",
       "      <td>CA</td>\n",
       "    </tr>\n",
       "  </tbody>\n",
       "</table>\n",
       "</div>"
      ],
      "text/plain": [
       "        State  Population  Deaths Abbrev\n",
       "0     Alabama     4833722     723     AL\n",
       "1      Alaska      735132     124     AK\n",
       "2     Arizona     6626624    1211     AZ\n",
       "3    Arkansas     2959373     356     AR\n",
       "4  California    38332521    4521     CA"
      ]
     },
     "execution_count": 43,
     "metadata": {},
     "output_type": "execute_result"
    }
   ],
   "source": [
    "overdoses.head()"
   ]
  },
  {
   "cell_type": "code",
   "execution_count": 49,
   "metadata": {},
   "outputs": [
    {
     "data": {
      "text/plain": [
       "0        14.957418\n",
       "1        16.867719\n",
       "2        18.274766\n",
       "3        12.029575\n",
       "4        11.794163\n",
       "           ...    \n",
       "24995          NaN\n",
       "24996          NaN\n",
       "24997          NaN\n",
       "24998          NaN\n",
       "24999          NaN\n",
       "Name: Death Rate, Length: 24759, dtype: float64"
      ]
     },
     "execution_count": 49,
     "metadata": {},
     "output_type": "execute_result"
    }
   ],
   "source": [
    "pop = overdoses.sort_values(['Population'], ascending = False)\n",
    "pop2 = overdoses.sort_values(['Deaths'], ascending = False)\n",
    "overdoses['Death Rate'] = (overdoses['Deaths'] / overdoses['Population'])*100000\n",
    "rate_death = prescriber['Death Rate']\n",
    "\n",
    "\n",
    "\n",
    "rate_death"
   ]
  },
  {
   "cell_type": "code",
   "execution_count": 54,
   "metadata": {},
   "outputs": [
    {
     "data": {
      "text/html": [
       "<div>\n",
       "<style scoped>\n",
       "    .dataframe tbody tr th:only-of-type {\n",
       "        vertical-align: middle;\n",
       "    }\n",
       "\n",
       "    .dataframe tbody tr th {\n",
       "        vertical-align: top;\n",
       "    }\n",
       "\n",
       "    .dataframe thead th {\n",
       "        text-align: right;\n",
       "    }\n",
       "</style>\n",
       "<table border=\"1\" class=\"dataframe\">\n",
       "  <thead>\n",
       "    <tr style=\"text-align: right;\">\n",
       "      <th></th>\n",
       "      <th>Population</th>\n",
       "      <th>Deaths</th>\n",
       "      <th>State</th>\n",
       "      <th>Death Rate</th>\n",
       "    </tr>\n",
       "  </thead>\n",
       "  <tbody>\n",
       "    <tr>\n",
       "      <td>0</td>\n",
       "      <td>4833722</td>\n",
       "      <td>723</td>\n",
       "      <td>AL</td>\n",
       "      <td>14.957418</td>\n",
       "    </tr>\n",
       "    <tr>\n",
       "      <td>1</td>\n",
       "      <td>735132</td>\n",
       "      <td>124</td>\n",
       "      <td>AK</td>\n",
       "      <td>16.867719</td>\n",
       "    </tr>\n",
       "    <tr>\n",
       "      <td>2</td>\n",
       "      <td>6626624</td>\n",
       "      <td>1211</td>\n",
       "      <td>AZ</td>\n",
       "      <td>18.274766</td>\n",
       "    </tr>\n",
       "    <tr>\n",
       "      <td>3</td>\n",
       "      <td>2959373</td>\n",
       "      <td>356</td>\n",
       "      <td>AR</td>\n",
       "      <td>12.029575</td>\n",
       "    </tr>\n",
       "    <tr>\n",
       "      <td>4</td>\n",
       "      <td>38332521</td>\n",
       "      <td>4521</td>\n",
       "      <td>CA</td>\n",
       "      <td>11.794163</td>\n",
       "    </tr>\n",
       "    <tr>\n",
       "      <td>5</td>\n",
       "      <td>5268367</td>\n",
       "      <td>899</td>\n",
       "      <td>CO</td>\n",
       "      <td>17.064111</td>\n",
       "    </tr>\n",
       "    <tr>\n",
       "      <td>6</td>\n",
       "      <td>3596080</td>\n",
       "      <td>623</td>\n",
       "      <td>CT</td>\n",
       "      <td>17.324420</td>\n",
       "    </tr>\n",
       "    <tr>\n",
       "      <td>7</td>\n",
       "      <td>925749</td>\n",
       "      <td>189</td>\n",
       "      <td>DE</td>\n",
       "      <td>20.415901</td>\n",
       "    </tr>\n",
       "    <tr>\n",
       "      <td>8</td>\n",
       "      <td>19552860</td>\n",
       "      <td>2634</td>\n",
       "      <td>FL</td>\n",
       "      <td>13.471175</td>\n",
       "    </tr>\n",
       "    <tr>\n",
       "      <td>9</td>\n",
       "      <td>9992167</td>\n",
       "      <td>1206</td>\n",
       "      <td>GA</td>\n",
       "      <td>12.069454</td>\n",
       "    </tr>\n",
       "    <tr>\n",
       "      <td>10</td>\n",
       "      <td>1404054</td>\n",
       "      <td>157</td>\n",
       "      <td>HI</td>\n",
       "      <td>11.181906</td>\n",
       "    </tr>\n",
       "    <tr>\n",
       "      <td>11</td>\n",
       "      <td>1612136</td>\n",
       "      <td>212</td>\n",
       "      <td>ID</td>\n",
       "      <td>13.150255</td>\n",
       "    </tr>\n",
       "    <tr>\n",
       "      <td>12</td>\n",
       "      <td>12882135</td>\n",
       "      <td>1705</td>\n",
       "      <td>IL</td>\n",
       "      <td>13.235384</td>\n",
       "    </tr>\n",
       "    <tr>\n",
       "      <td>13</td>\n",
       "      <td>6570902</td>\n",
       "      <td>1172</td>\n",
       "      <td>IN</td>\n",
       "      <td>17.836212</td>\n",
       "    </tr>\n",
       "    <tr>\n",
       "      <td>14</td>\n",
       "      <td>3090416</td>\n",
       "      <td>264</td>\n",
       "      <td>IA</td>\n",
       "      <td>8.542539</td>\n",
       "    </tr>\n",
       "    <tr>\n",
       "      <td>15</td>\n",
       "      <td>2893957</td>\n",
       "      <td>332</td>\n",
       "      <td>KS</td>\n",
       "      <td>11.472182</td>\n",
       "    </tr>\n",
       "    <tr>\n",
       "      <td>16</td>\n",
       "      <td>4395295</td>\n",
       "      <td>1077</td>\n",
       "      <td>KY</td>\n",
       "      <td>24.503475</td>\n",
       "    </tr>\n",
       "    <tr>\n",
       "      <td>17</td>\n",
       "      <td>4625470</td>\n",
       "      <td>777</td>\n",
       "      <td>LA</td>\n",
       "      <td>16.798293</td>\n",
       "    </tr>\n",
       "    <tr>\n",
       "      <td>18</td>\n",
       "      <td>1328302</td>\n",
       "      <td>216</td>\n",
       "      <td>ME</td>\n",
       "      <td>16.261362</td>\n",
       "    </tr>\n",
       "    <tr>\n",
       "      <td>19</td>\n",
       "      <td>5928814</td>\n",
       "      <td>1070</td>\n",
       "      <td>MD</td>\n",
       "      <td>18.047454</td>\n",
       "    </tr>\n",
       "    <tr>\n",
       "      <td>20</td>\n",
       "      <td>6692824</td>\n",
       "      <td>1289</td>\n",
       "      <td>MA</td>\n",
       "      <td>19.259434</td>\n",
       "    </tr>\n",
       "    <tr>\n",
       "      <td>21</td>\n",
       "      <td>9895622</td>\n",
       "      <td>1762</td>\n",
       "      <td>MI</td>\n",
       "      <td>17.805854</td>\n",
       "    </tr>\n",
       "    <tr>\n",
       "      <td>22</td>\n",
       "      <td>5420380</td>\n",
       "      <td>517</td>\n",
       "      <td>MN</td>\n",
       "      <td>9.538077</td>\n",
       "    </tr>\n",
       "    <tr>\n",
       "      <td>23</td>\n",
       "      <td>2991207</td>\n",
       "      <td>336</td>\n",
       "      <td>MS</td>\n",
       "      <td>11.232924</td>\n",
       "    </tr>\n",
       "    <tr>\n",
       "      <td>24</td>\n",
       "      <td>6044171</td>\n",
       "      <td>1067</td>\n",
       "      <td>MO</td>\n",
       "      <td>17.653372</td>\n",
       "    </tr>\n",
       "    <tr>\n",
       "      <td>25</td>\n",
       "      <td>1015165</td>\n",
       "      <td>125</td>\n",
       "      <td>MT</td>\n",
       "      <td>12.313269</td>\n",
       "    </tr>\n",
       "    <tr>\n",
       "      <td>26</td>\n",
       "      <td>1868516</td>\n",
       "      <td>125</td>\n",
       "      <td>NE</td>\n",
       "      <td>6.689801</td>\n",
       "    </tr>\n",
       "    <tr>\n",
       "      <td>27</td>\n",
       "      <td>2790136</td>\n",
       "      <td>545</td>\n",
       "      <td>NV</td>\n",
       "      <td>19.533098</td>\n",
       "    </tr>\n",
       "    <tr>\n",
       "      <td>28</td>\n",
       "      <td>1323459</td>\n",
       "      <td>334</td>\n",
       "      <td>NH</td>\n",
       "      <td>25.236898</td>\n",
       "    </tr>\n",
       "    <tr>\n",
       "      <td>29</td>\n",
       "      <td>8899339</td>\n",
       "      <td>1253</td>\n",
       "      <td>NJ</td>\n",
       "      <td>14.079697</td>\n",
       "    </tr>\n",
       "    <tr>\n",
       "      <td>30</td>\n",
       "      <td>2085287</td>\n",
       "      <td>547</td>\n",
       "      <td>NM</td>\n",
       "      <td>26.231401</td>\n",
       "    </tr>\n",
       "    <tr>\n",
       "      <td>31</td>\n",
       "      <td>19651127</td>\n",
       "      <td>2300</td>\n",
       "      <td>NY</td>\n",
       "      <td>11.704163</td>\n",
       "    </tr>\n",
       "    <tr>\n",
       "      <td>32</td>\n",
       "      <td>9848060</td>\n",
       "      <td>1358</td>\n",
       "      <td>NC</td>\n",
       "      <td>13.789518</td>\n",
       "    </tr>\n",
       "    <tr>\n",
       "      <td>33</td>\n",
       "      <td>723393</td>\n",
       "      <td>43</td>\n",
       "      <td>ND</td>\n",
       "      <td>5.944210</td>\n",
       "    </tr>\n",
       "    <tr>\n",
       "      <td>34</td>\n",
       "      <td>11570808</td>\n",
       "      <td>2744</td>\n",
       "      <td>OH</td>\n",
       "      <td>23.714852</td>\n",
       "    </tr>\n",
       "    <tr>\n",
       "      <td>35</td>\n",
       "      <td>3850568</td>\n",
       "      <td>777</td>\n",
       "      <td>OK</td>\n",
       "      <td>20.178841</td>\n",
       "    </tr>\n",
       "    <tr>\n",
       "      <td>36</td>\n",
       "      <td>3930065</td>\n",
       "      <td>522</td>\n",
       "      <td>OR</td>\n",
       "      <td>13.282223</td>\n",
       "    </tr>\n",
       "    <tr>\n",
       "      <td>37</td>\n",
       "      <td>12773801</td>\n",
       "      <td>2732</td>\n",
       "      <td>PA</td>\n",
       "      <td>21.387526</td>\n",
       "    </tr>\n",
       "    <tr>\n",
       "      <td>38</td>\n",
       "      <td>1051511</td>\n",
       "      <td>247</td>\n",
       "      <td>RI</td>\n",
       "      <td>23.490006</td>\n",
       "    </tr>\n",
       "    <tr>\n",
       "      <td>39</td>\n",
       "      <td>4774839</td>\n",
       "      <td>701</td>\n",
       "      <td>SC</td>\n",
       "      <td>14.681123</td>\n",
       "    </tr>\n",
       "    <tr>\n",
       "      <td>40</td>\n",
       "      <td>844877</td>\n",
       "      <td>63</td>\n",
       "      <td>SD</td>\n",
       "      <td>7.456707</td>\n",
       "    </tr>\n",
       "    <tr>\n",
       "      <td>41</td>\n",
       "      <td>6495978</td>\n",
       "      <td>1269</td>\n",
       "      <td>TN</td>\n",
       "      <td>19.535165</td>\n",
       "    </tr>\n",
       "    <tr>\n",
       "      <td>42</td>\n",
       "      <td>26448193</td>\n",
       "      <td>2601</td>\n",
       "      <td>TX</td>\n",
       "      <td>9.834320</td>\n",
       "    </tr>\n",
       "    <tr>\n",
       "      <td>43</td>\n",
       "      <td>2900872</td>\n",
       "      <td>603</td>\n",
       "      <td>UT</td>\n",
       "      <td>20.786853</td>\n",
       "    </tr>\n",
       "    <tr>\n",
       "      <td>44</td>\n",
       "      <td>626630</td>\n",
       "      <td>83</td>\n",
       "      <td>VT</td>\n",
       "      <td>13.245456</td>\n",
       "    </tr>\n",
       "    <tr>\n",
       "      <td>45</td>\n",
       "      <td>8260405</td>\n",
       "      <td>980</td>\n",
       "      <td>VA</td>\n",
       "      <td>11.863825</td>\n",
       "    </tr>\n",
       "    <tr>\n",
       "      <td>46</td>\n",
       "      <td>6971406</td>\n",
       "      <td>979</td>\n",
       "      <td>WA</td>\n",
       "      <td>14.043078</td>\n",
       "    </tr>\n",
       "    <tr>\n",
       "      <td>47</td>\n",
       "      <td>1854304</td>\n",
       "      <td>627</td>\n",
       "      <td>WV</td>\n",
       "      <td>33.813226</td>\n",
       "    </tr>\n",
       "    <tr>\n",
       "      <td>48</td>\n",
       "      <td>5742713</td>\n",
       "      <td>853</td>\n",
       "      <td>WI</td>\n",
       "      <td>14.853607</td>\n",
       "    </tr>\n",
       "    <tr>\n",
       "      <td>49</td>\n",
       "      <td>582658</td>\n",
       "      <td>109</td>\n",
       "      <td>WY</td>\n",
       "      <td>18.707372</td>\n",
       "    </tr>\n",
       "  </tbody>\n",
       "</table>\n",
       "</div>"
      ],
      "text/plain": [
       "    Population  Deaths State  Death Rate\n",
       "0      4833722     723    AL   14.957418\n",
       "1       735132     124    AK   16.867719\n",
       "2      6626624    1211    AZ   18.274766\n",
       "3      2959373     356    AR   12.029575\n",
       "4     38332521    4521    CA   11.794163\n",
       "5      5268367     899    CO   17.064111\n",
       "6      3596080     623    CT   17.324420\n",
       "7       925749     189    DE   20.415901\n",
       "8     19552860    2634    FL   13.471175\n",
       "9      9992167    1206    GA   12.069454\n",
       "10     1404054     157    HI   11.181906\n",
       "11     1612136     212    ID   13.150255\n",
       "12    12882135    1705    IL   13.235384\n",
       "13     6570902    1172    IN   17.836212\n",
       "14     3090416     264    IA    8.542539\n",
       "15     2893957     332    KS   11.472182\n",
       "16     4395295    1077    KY   24.503475\n",
       "17     4625470     777    LA   16.798293\n",
       "18     1328302     216    ME   16.261362\n",
       "19     5928814    1070    MD   18.047454\n",
       "20     6692824    1289    MA   19.259434\n",
       "21     9895622    1762    MI   17.805854\n",
       "22     5420380     517    MN    9.538077\n",
       "23     2991207     336    MS   11.232924\n",
       "24     6044171    1067    MO   17.653372\n",
       "25     1015165     125    MT   12.313269\n",
       "26     1868516     125    NE    6.689801\n",
       "27     2790136     545    NV   19.533098\n",
       "28     1323459     334    NH   25.236898\n",
       "29     8899339    1253    NJ   14.079697\n",
       "30     2085287     547    NM   26.231401\n",
       "31    19651127    2300    NY   11.704163\n",
       "32     9848060    1358    NC   13.789518\n",
       "33      723393      43    ND    5.944210\n",
       "34    11570808    2744    OH   23.714852\n",
       "35     3850568     777    OK   20.178841\n",
       "36     3930065     522    OR   13.282223\n",
       "37    12773801    2732    PA   21.387526\n",
       "38     1051511     247    RI   23.490006\n",
       "39     4774839     701    SC   14.681123\n",
       "40      844877      63    SD    7.456707\n",
       "41     6495978    1269    TN   19.535165\n",
       "42    26448193    2601    TX    9.834320\n",
       "43     2900872     603    UT   20.786853\n",
       "44      626630      83    VT   13.245456\n",
       "45     8260405     980    VA   11.863825\n",
       "46     6971406     979    WA   14.043078\n",
       "47     1854304     627    WV   33.813226\n",
       "48     5742713     853    WI   14.853607\n",
       "49      582658     109    WY   18.707372"
      ]
     },
     "execution_count": 54,
     "metadata": {},
     "output_type": "execute_result"
    }
   ],
   "source": [
    "overdoses.drop('State', axis=1, inplace=True)\n",
    "overdoses.rename(columns={'Abbrev': 'State'})"
   ]
  },
  {
   "cell_type": "markdown",
   "metadata": {},
   "source": [
    "# We can start looking at the data with a focus on the the actual drugs. Opioids and Non Opioids"
   ]
  },
  {
   "cell_type": "code",
   "execution_count": 139,
   "metadata": {},
   "outputs": [],
   "source": [
    "#Create a dataframe containing only the opioids found in our prescriber dataframe\n",
    "df_opi = prescriber[['State', 'Gender', 'Specialty', 'HYDROMORPHONE.HCL',\n",
    " 'OXYCONTIN',\n",
    " 'OXYCODONE.HCL',\n",
    " 'TRAMADOL.HCL',\n",
    " 'MORPHINE.SULFATE.ER',\n",
    " 'HYDROCODONE.ACETAMINOPHEN',\n",
    " 'FENTANYL',\n",
    " 'MORPHINE.SULFATE',\n",
    " 'METHADONE.HCL',\n",
    " 'OXYCODONE.ACETAMINOPHEN',\n",
    " 'ACETAMINOPHEN.CODEINE', 'SumOpi', 'TotPresc']]\n"
   ]
  },
  {
   "cell_type": "code",
   "execution_count": 136,
   "metadata": {},
   "outputs": [],
   "source": [
    "#non_presc = non_prescribed.drop(df_opi, axis=1)\n",
    "\n",
    "#We'll take each opioid and find their sums\n",
    "sum_non_presc = non_presc.iloc[:,1:240].sum()\n",
    "\n",
    "sum_non_presc = sum_non_presc.sort_values(ascending=False).head(11)"
   ]
  },
  {
   "cell_type": "code",
   "execution_count": 99,
   "metadata": {},
   "outputs": [],
   "source": [
    "#We'll take each opioid and find their sums\n",
    "sum_opi = df_opi.iloc[:,3:14].sum()"
   ]
  },
  {
   "cell_type": "code",
   "execution_count": 132,
   "metadata": {},
   "outputs": [
    {
     "data": {
      "text/plain": [
       "HYDROCODONE.ACETAMINOPHEN    957439\n",
       "TRAMADOL.HCL                 398734\n",
       "OXYCODONE.ACETAMINOPHEN      240134\n",
       "OXYCODONE.HCL                172286\n",
       "MORPHINE.SULFATE.ER           88190\n",
       "FENTANYL                      85344\n",
       "ACETAMINOPHEN.CODEINE         58477\n",
       "OXYCONTIN                     49727\n",
       "METHADONE.HCL                 35789\n",
       "HYDROMORPHONE.HCL             23159\n",
       "MORPHINE.SULFATE              20707\n",
       "dtype: int64"
      ]
     },
     "execution_count": 132,
     "metadata": {},
     "output_type": "execute_result"
    }
   ],
   "source": [
    "sum_opi.sort_values(ascending=False)"
   ]
  },
  {
   "cell_type": "code",
   "execution_count": 140,
   "metadata": {},
   "outputs": [
    {
     "data": {
      "image/png": "[encoded data removed]",
      "text/plain": [
       "<Figure size 864x720 with 1 Axes>"
      ]
     },
     "metadata": {
      "needs_background": "light"
     },
     "output_type": "display_data"
    }
   ],
   "source": [
    "twig = sum_opi.plot(kind='barh', color='r', width=.5, title=\"Total Prescriptions for Opioid Drugs\", figsize=(12,10))\n"
   ]
  },
  {
   "cell_type": "code",
   "execution_count": 138,
   "metadata": {},
   "outputs": [
    {
     "data": {
      "image/png": "[encoded data removed]",
      "text/plain": [
       "<Figure size 864x720 with 1 Axes>"
      ]
     },
     "metadata": {
      "needs_background": "light"
     },
     "output_type": "display_data"
    }
   ],
   "source": [
    "twig2 =ax1 =sum_non_presc.plot(kind='barh', color='b', width=.5, title=\"Top 11 Top Prescriptions for Non Opioid Drugs\", figsize=(12,10))"
   ]
  },
  {
   "cell_type": "markdown",
   "metadata": {},
   "source": [
    "We went with the top 11 non opioid prescribed drugs to match the 11 opioid drugs that we've been using throughout. Lisinopril is a drug that is prescribed to patients who have high blood pressure. For most patients it has little side effects so it's not surprising that it is so heavily prescibed.\n",
    "\n",
    "On the opioid side, HYDROCODONE.ACETAMINOPHEN almost triples in the amount of other prescribed opioids. It is a drug prescribed to relieve moderate to severe pain."
   ]
  }
 ],
 "metadata": {
  "kernelspec": {
   "display_name": "Python 3",
   "language": "python",
   "name": "python3"
  },
  "language_info": {
   "codemirror_mode": {
    "name": "ipython",
    "version": 3
   },
   "file_extension": ".py",
   "mimetype": "text/x-python",
   "name": "python",
   "nbconvert_exporter": "python",
   "pygments_lexer": "ipython3",
   "version": "3.7.4"
  }
 },
 "nbformat": 4,
 "nbformat_minor": 2
}
